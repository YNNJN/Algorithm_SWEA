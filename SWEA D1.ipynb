{
 "cells": [
  {
   "cell_type": "markdown",
   "metadata": {},
   "source": [
    "## SWEA D1"
   ]
  },
  {
   "cell_type": "code",
   "execution_count": null,
   "metadata": {},
   "outputs": [],
   "source": [
    "#1933. 간단한 N의 약수\n",
    "\n",
    "a=int(input())\n",
    "l=[]\n",
    "for i in range(a,-1,-1):\n",
    "    l.append(str(i))\n",
    "print(' '.join(l))"
   ]
  },
  {
   "cell_type": "code",
   "execution_count": null,
   "metadata": {},
   "outputs": [],
   "source": [
    "#1936. 가위바위보\n",
    "\n",
    "a, b = map(int, input().split(' '))\n",
    "boo=True\n",
    "if a<b : boo= not boo\n",
    "if {a, b} == {1, 3}: boo= not boo\n",
    "\n",
    "print('A' if boo else 'B')\n",
    "\n",
    "\n",
    "\n",
    "#몇 가지 케이스 분류가 필요한 지를 따지고 시작\n",
    "#대각선 출력 문제 또한 적어도 i*j만큼의 출력이 있어야 하니 5*5, for문의 중첩이 필요\n",
    "#먼저 가지를 짜 놓고, 나머지 세부 조건은 모듈화\n",
    "#for문 여러 개 돌릴 때 반드시 고려할 것"
   ]
  },
  {
   "cell_type": "code",
   "execution_count": null,
   "metadata": {},
   "outputs": [],
   "source": [
    "#1938. 아주 간단한 계산기\n",
    "\n",
    "a,b=map(int,input().split(' '))\n",
    "print(a+b)\n",
    "print(a-b)\n",
    "print(a*b)\n",
    "print(int(a/b))"
   ]
  },
  {
   "cell_type": "code",
   "execution_count": null,
   "metadata": {},
   "outputs": [],
   "source": [
    "#2025. n줄 덧셈\n",
    "\n",
    "a=int(input())\n",
    "print(int(a*(a+1)/2))"
   ]
  },
  {
   "cell_type": "code",
   "execution_count": null,
   "metadata": {},
   "outputs": [],
   "source": [
    "#2027. 대각선 출력하기\n",
    "\n",
    "for i in range(5):\n",
    "    s=''\n",
    "    for j in range(5):\n",
    "        if i==j:\n",
    "            s+='#'\n",
    "        else : s+='+'\n",
    "    print(s)"
   ]
  },
  {
   "cell_type": "code",
   "execution_count": null,
   "metadata": {},
   "outputs": [],
   "source": [
    "#2029. 몫과 나머지 출력하기\n",
    "\n",
    "t = int(input())\n",
    "\n",
    "for i in range(1, t + 1):\n",
    "    a, b = map(int, input().split(' '))\n",
    "    print(f'#{i} {int(a / b)} {a % b}')"
   ]
  },
  {
   "cell_type": "code",
   "execution_count": null,
   "metadata": {},
   "outputs": [],
   "source": [
    "#2043. 서랍의 비밀번호\n",
    "\n",
    "p, k = map(int, input().split(' '))\n",
    "print(p-k+1)\n",
    "\n",
    "\n",
    "#map은 두 개 이상의 객체에 같은 함수를 동일 적용 하고싶을 때"
   ]
  },
  {
   "cell_type": "code",
   "execution_count": null,
   "metadata": {},
   "outputs": [],
   "source": [
    "#2046. 스탬프 찍기\n",
    "\n",
    "num = int(input())\n",
    "print('#' * num)"
   ]
  },
  {
   "cell_type": "code",
   "execution_count": null,
   "metadata": {},
   "outputs": [],
   "source": [
    "#2047. 신문 헤드라인\n",
    "#소문자 -> 대문자 출력\n",
    "\n",
    "previous = input()\n",
    "print(previous.upper())"
   ]
  },
  {
   "cell_type": "code",
   "execution_count": null,
   "metadata": {},
   "outputs": [],
   "source": [
    "#2050. 알파벳을 숫자로 변환\n",
    "#알파벳으로 이루어진 문자열을 입력 받아 각 알파벳을 1부터 26까지의 숫자로 변환하여 출력\n",
    "\n",
    "alpha = input()\n",
    "\n",
    "result = ''\n",
    "\n",
    "for i in range(len(alpha)):\n",
    "    num = ord(alpha[i])-ord('A')+1\n",
    "    result += str(num) + ' '\n",
    "\n",
    "print(result[:-1])"
   ]
  },
  {
   "cell_type": "code",
   "execution_count": null,
   "metadata": {},
   "outputs": [],
   "source": [
    "#2056. 연월일 달력\n",
    "#날짜 유효성 판단해서 연/월/일 8자리 끊어서 출력해주기, 아니면 -1 출력\n",
    "#월은 1~12, 날짜는 각 달의 마지막 날 안에 들어와야 유효한 것\n",
    "\n",
    "t = int(input())\n",
    "\n",
    "for i in range(1, t + 1):\n",
    "\n",
    "    num = input()\n",
    "    year = num[0:4]\n",
    "    month = num[4:6]\n",
    "    day = num[6:8]\n",
    "    day_i = int(num[6:8])\n",
    "    calendar = {'01': 31, '02': 28, '03': 31, '04': 30, '05': 31, '06': 30, '07': 31, '08': 31, '09': 30, '10': 31, '11': 30, '12': 31}\n",
    "\n",
    "    months = calendar.keys()\n",
    "\n",
    "    if month in months:\n",
    "        days = calendar[month]\n",
    "\n",
    "        if day_i in range(1, days + 1):\n",
    "            print(f'#{i} {year}/{month}/{day}')\n",
    "\n",
    "        else:\n",
    "            print(f'#{i} -1')\n",
    "\n",
    "    else:\n",
    "        print(f'#{i} -1')"
   ]
  },
  {
   "cell_type": "code",
   "execution_count": null,
   "metadata": {},
   "outputs": [],
   "source": [
    "#2058. 자릿수 더하기\n",
    "#하나의 자연수를 입력 받아 각 자릿수의 합을 계산하는 프로그램을 작성\n",
    "\n",
    "num = int(input())\n",
    "\n",
    "def sum_each(num):\n",
    "    result = 0\n",
    "    for i in str(num):\n",
    "        result += int(i)\n",
    "    return result\n",
    "\n",
    "print(sum_each(num))"
   ]
  },
  {
   "cell_type": "code",
   "execution_count": null,
   "metadata": {},
   "outputs": [],
   "source": [
    "#2063. 중간값 찾기\n",
    "#전체의 중앙에 위치하는 수치 찾기. 입력으로 n개 정수 주어지고, 중간값 출력\n",
    "\n",
    "n = int(input())\n",
    "\n",
    "if n % 2:\n",
    "    l = map(int, input().split(' '))\n",
    "    l = list(l)\n",
    "    result = sorted(l)\n",
    "    print(result[int(len(l)/2)])"
   ]
  },
  {
   "cell_type": "code",
   "execution_count": null,
   "metadata": {},
   "outputs": [],
   "source": [
    "#2068. 최대수 구하기\n",
    "#10개 수 입력받아, 가장 큰 수 출력하는 프로그램\n",
    "\n",
    "t = int(input())\n",
    "\n",
    "for i in range(1, t+1):\n",
    "    l = map(int, input().split(' '))\n",
    "\n",
    "    print(f'#{i} {max(l)}')"
   ]
  },
  {
   "cell_type": "code",
   "execution_count": null,
   "metadata": {},
   "outputs": [],
   "source": [
    "#2070. 큰 놈, 작은 놈, 같은 놈\n",
    "#2개의 수를 입력 받아 크기를 비교하여 등호 또는 부등호를 출력하는 프로그램을 작성\n",
    "\n",
    "t = int(input())\n",
    "\n",
    "for i in range(1, t+1):\n",
    "    a, b = map(int, input().split(' '))\n",
    "\n",
    "    if a > b:\n",
    "        print(f'#{i} >')\n",
    "    elif a == b:\n",
    "        print(f'#{i} =')\n",
    "    else:\n",
    "        print(f'#{i} <')"
   ]
  },
  {
   "cell_type": "code",
   "execution_count": null,
   "metadata": {},
   "outputs": [],
   "source": [
    "#2071. 평균값 구하기\n",
    "#10개 수 입렧받아 평균값을 출력. 소수점 첫째자리에서 반올림한 정수 출력\n",
    "\n",
    "t = int(input())\n",
    "\n",
    "for i in range(1, t+1):\n",
    "    l = map(int, input().split(' '))\n",
    "    l=list(l)\n",
    "\n",
    "    result = sum(l)\n",
    "\n",
    "    mean = result/len(l)\n",
    "    new_mean = round(mean)\n",
    "\n",
    "    print(f'#{i} {new_mean}')"
   ]
  },
  {
   "cell_type": "code",
   "execution_count": null,
   "metadata": {},
   "outputs": [],
   "source": [
    "# 2072. 홀수만 더하기\n",
    "# 10개의 수를 입력 받아, 그 중에서 홀수만 더한 값을 출력하는 프로그램을 작성\n",
    "\n",
    "t = int(input())\n",
    "\n",
    "for i in range(1, t+1):\n",
    "    l = map(int, input().split(' '))\n",
    "    new_l = []\n",
    "\n",
    "    for num in l:\n",
    "        if num % 2:\n",
    "            new_l.append(num)\n",
    "\n",
    "    print(f'#{i} {sum(new_l)}')"
   ]
  }
 ],
 "metadata": {
  "kernelspec": {
   "display_name": "Python 3",
   "language": "python",
   "name": "python3"
  },
  "language_info": {
   "codemirror_mode": {
    "name": "ipython",
    "version": 3
   },
   "file_extension": ".py",
   "mimetype": "text/x-python",
   "name": "python",
   "nbconvert_exporter": "python",
   "pygments_lexer": "ipython3",
   "version": "3.7.3"
  }
 },
 "nbformat": 4,
 "nbformat_minor": 2
}
